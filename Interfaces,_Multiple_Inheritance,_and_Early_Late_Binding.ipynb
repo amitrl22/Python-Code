{
  "nbformat": 4,
  "nbformat_minor": 0,
  "metadata": {
    "colab": {
      "provenance": [],
      "include_colab_link": true
    },
    "kernelspec": {
      "name": "python3",
      "display_name": "Python 3"
    },
    "language_info": {
      "name": "python"
    }
  },
  "cells": [
    {
      "cell_type": "markdown",
      "metadata": {
        "id": "view-in-github",
        "colab_type": "text"
      },
      "source": [
        "<a href=\"https://colab.research.google.com/github/amitrl22/Python-Code/blob/master/Interfaces%2C_Multiple_Inheritance%2C_and_Early_Late_Binding.ipynb\" target=\"_parent\"><img src=\"https://colab.research.google.com/assets/colab-badge.svg\" alt=\"Open In Colab\"/></a>"
      ]
    },
    {
      "cell_type": "markdown",
      "source": [
        "### Method Overiding"
      ],
      "metadata": {
        "id": "g3YCbwNyS5Bl"
      }
    },
    {
      "cell_type": "code",
      "execution_count": 1,
      "metadata": {
        "id": "gU9mbY3uOCxL"
      },
      "outputs": [],
      "source": [
        "class Animal: # Base class\n",
        "    pass\n",
        "    # def sound(self):\n",
        "    #     print(\"Animal making sound\")"
      ]
    },
    {
      "cell_type": "code",
      "source": [
        "class Dog(Animal): # Child class\n",
        "    pass\n",
        "    # def sound(self):\n",
        "    #     print(\"dog making sound\")"
      ],
      "metadata": {
        "id": "kil66WtSRE3r"
      },
      "execution_count": 2,
      "outputs": []
    },
    {
      "cell_type": "code",
      "source": [
        "\n",
        "animal_1 = Animal()"
      ],
      "metadata": {
        "id": "LgNH4BK6T2Hc"
      },
      "execution_count": 3,
      "outputs": []
    },
    {
      "cell_type": "code",
      "source": [
        "animal_1.sound()"
      ],
      "metadata": {
        "colab": {
          "base_uri": "https://localhost:8080/",
          "height": 139
        },
        "id": "FETv4qDxT4rN",
        "outputId": "cd2e4cc4-6121-4a48-d3cf-7aff6fd2cb88"
      },
      "execution_count": 4,
      "outputs": [
        {
          "output_type": "error",
          "ename": "AttributeError",
          "evalue": "'Animal' object has no attribute 'sound'",
          "traceback": [
            "\u001b[0;31m---------------------------------------------------------------------------\u001b[0m",
            "\u001b[0;31mAttributeError\u001b[0m                            Traceback (most recent call last)",
            "\u001b[0;32m<ipython-input-4-4cef5ed91953>\u001b[0m in \u001b[0;36m<cell line: 1>\u001b[0;34m()\u001b[0m\n\u001b[0;32m----> 1\u001b[0;31m \u001b[0manimal_1\u001b[0m\u001b[0;34m.\u001b[0m\u001b[0msound\u001b[0m\u001b[0;34m(\u001b[0m\u001b[0;34m)\u001b[0m\u001b[0;34m\u001b[0m\u001b[0;34m\u001b[0m\u001b[0m\n\u001b[0m",
            "\u001b[0;31mAttributeError\u001b[0m: 'Animal' object has no attribute 'sound'"
          ]
        }
      ]
    },
    {
      "cell_type": "code",
      "source": [
        "dog_1 = Dog()"
      ],
      "metadata": {
        "id": "YmqhzZOiRPzt"
      },
      "execution_count": null,
      "outputs": []
    },
    {
      "cell_type": "code",
      "source": [
        "dog_1.sound()"
      ],
      "metadata": {
        "id": "PozVh9WMRaqO"
      },
      "execution_count": null,
      "outputs": []
    },
    {
      "cell_type": "markdown",
      "source": [
        "# Method Overloading"
      ],
      "metadata": {
        "id": "S7dQfKguS-wb"
      }
    },
    {
      "cell_type": "code",
      "source": [
        "def sum(a, b, c = 0):\n",
        "    return a + b + c"
      ],
      "metadata": {
        "id": "bwGOzvsxRkLI"
      },
      "execution_count": null,
      "outputs": []
    },
    {
      "cell_type": "code",
      "source": [
        "sum(1, 2)"
      ],
      "metadata": {
        "id": "zQM-1-mrTMq5"
      },
      "execution_count": null,
      "outputs": []
    },
    {
      "cell_type": "code",
      "source": [
        "sum(1, 2, 3)"
      ],
      "metadata": {
        "id": "FLyzKj0-TOS7"
      },
      "execution_count": null,
      "outputs": []
    },
    {
      "cell_type": "code",
      "source": [],
      "metadata": {
        "id": "oV_4paI-TjuW"
      },
      "execution_count": null,
      "outputs": []
    },
    {
      "cell_type": "markdown",
      "source": [
        "## Concept of the Interfaces in Python"
      ],
      "metadata": {
        "id": "n7k70spicxJq"
      }
    },
    {
      "cell_type": "code",
      "source": [
        "from abc import ABC, abstractmethod"
      ],
      "metadata": {
        "id": "_UVYoPxRdCMc"
      },
      "execution_count": null,
      "outputs": []
    },
    {
      "cell_type": "code",
      "source": [
        "class Employee(ABC):\n",
        "    @abstractmethod\n",
        "    def salary(a):\n",
        "        pass\n",
        "\n",
        "    def work_place(a):\n",
        "        print(\"Delhi\")"
      ],
      "metadata": {
        "id": "Zm5eyqxYczpj"
      },
      "execution_count": null,
      "outputs": []
    },
    {
      "cell_type": "code",
      "source": [
        "class CEO(Employee):\n",
        "    def salary(a):\n",
        "        print(\"USD 10,000\")"
      ],
      "metadata": {
        "id": "ofxzvEygdA66"
      },
      "execution_count": null,
      "outputs": []
    },
    {
      "cell_type": "code",
      "source": [
        "class Manager(Employee):\n",
        "    def salary(a):\n",
        "        print(\"USD 5,000\")"
      ],
      "metadata": {
        "id": "K4KzChS5f9lD"
      },
      "execution_count": null,
      "outputs": []
    },
    {
      "cell_type": "code",
      "source": [
        "ceo = CEO()\n",
        "m1 = Manager()"
      ],
      "metadata": {
        "id": "d0xEIMThdS75"
      },
      "execution_count": null,
      "outputs": []
    },
    {
      "cell_type": "code",
      "source": [
        "print(ceo.salary())\n",
        "print(ceo.work_place())"
      ],
      "metadata": {
        "id": "-ueB2omzhAlA"
      },
      "execution_count": null,
      "outputs": []
    },
    {
      "cell_type": "code",
      "source": [
        "ceo.salary(), ceo.work_place()"
      ],
      "metadata": {
        "id": "b6Im83R7dYcV"
      },
      "execution_count": null,
      "outputs": []
    },
    {
      "cell_type": "code",
      "source": [
        "m1.salary(), m1.work_place()"
      ],
      "metadata": {
        "id": "fewjqws7feEn"
      },
      "execution_count": null,
      "outputs": []
    },
    {
      "cell_type": "markdown",
      "source": [
        "## Duck Typing"
      ],
      "metadata": {
        "id": "UuYRyQFnkM-R"
      }
    },
    {
      "cell_type": "code",
      "source": [
        "class CEO():\n",
        "    def salary(self):\n",
        "        return 10000"
      ],
      "metadata": {
        "id": "mrlBzzB1kMQV"
      },
      "execution_count": null,
      "outputs": []
    },
    {
      "cell_type": "code",
      "source": [
        "class Manager():\n",
        "    def salary(self):\n",
        "        return 5000"
      ],
      "metadata": {
        "id": "MfVY1kbSiynv"
      },
      "execution_count": null,
      "outputs": []
    },
    {
      "cell_type": "code",
      "source": [
        "ceo = CEO()\n",
        "ceo.salary()"
      ],
      "metadata": {
        "id": "oc1amaRhgJJ6"
      },
      "execution_count": null,
      "outputs": []
    },
    {
      "cell_type": "code",
      "source": [
        "m1 = Manager()\n",
        "m1.salary()"
      ],
      "metadata": {
        "id": "2YyL0Y7RkhJp"
      },
      "execution_count": null,
      "outputs": []
    },
    {
      "cell_type": "code",
      "source": [
        "def increment(obj):\n",
        "    print(\"Your salary gets incremented by $2000 and final salary is : $\", int(obj.salary()) + 2000)"
      ],
      "metadata": {
        "id": "OUADxc-ckkzT"
      },
      "execution_count": null,
      "outputs": []
    },
    {
      "cell_type": "code",
      "source": [
        "increment(m1)"
      ],
      "metadata": {
        "id": "XPb7R_evk166"
      },
      "execution_count": null,
      "outputs": []
    },
    {
      "cell_type": "code",
      "source": [
        "increment(ceo)"
      ],
      "metadata": {
        "id": "pZw_QZPsk_G6"
      },
      "execution_count": null,
      "outputs": []
    },
    {
      "cell_type": "markdown",
      "source": [
        "# Activity"
      ],
      "metadata": {
        "id": "Kn_a7kbWmp-K"
      }
    },
    {
      "cell_type": "code",
      "source": [
        "class Document(ABC):\n",
        "    @abstractmethod\n",
        "    def display_content():\n",
        "        pass"
      ],
      "metadata": {
        "id": "4uxaY1KklSYC"
      },
      "execution_count": null,
      "outputs": []
    },
    {
      "cell_type": "code",
      "source": [
        "class TextDocument(Document):\n",
        "    def display_content(self):\n",
        "        print(\"Display text\")"
      ],
      "metadata": {
        "id": "iheCnGL9muTs"
      },
      "execution_count": null,
      "outputs": []
    },
    {
      "cell_type": "code",
      "source": [
        "class ImageDocument(Document):\n",
        "    def display_content(self):\n",
        "        print(\"Showing Image\")"
      ],
      "metadata": {
        "id": "oTE5BHPGnRUD"
      },
      "execution_count": null,
      "outputs": []
    },
    {
      "cell_type": "code",
      "source": [
        "text = TextDocument()\n",
        "text.display_content()"
      ],
      "metadata": {
        "id": "C1d9PmTInVpF"
      },
      "execution_count": null,
      "outputs": []
    },
    {
      "cell_type": "code",
      "source": [
        "image = ImageDocument()\n",
        "image.display_content()"
      ],
      "metadata": {
        "id": "a8z_eQj2naK-"
      },
      "execution_count": null,
      "outputs": []
    },
    {
      "cell_type": "code",
      "source": [
        "ImageDocument.__mro__"
      ],
      "metadata": {
        "id": "TW3VaeHFpmE2"
      },
      "execution_count": null,
      "outputs": []
    },
    {
      "cell_type": "code",
      "source": [
        "a =3\n",
        "b =a"
      ],
      "metadata": {
        "id": "1PxfjXq0poIk"
      },
      "execution_count": null,
      "outputs": []
    },
    {
      "cell_type": "code",
      "source": [
        "b"
      ],
      "metadata": {
        "id": "j6aEu3hCryQH"
      },
      "execution_count": null,
      "outputs": []
    },
    {
      "cell_type": "code",
      "source": [],
      "metadata": {
        "id": "7sJvkwFNry_O"
      },
      "execution_count": null,
      "outputs": []
    }
  ]
}